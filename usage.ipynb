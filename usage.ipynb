{
 "cells": [
  {
   "cell_type": "code",
   "execution_count": 7,
   "metadata": {},
   "outputs": [],
   "source": [
    "from Car import Car\n",
    "from Motorcycle import Motorcycle\n",
    "from Truck import Truck"
   ]
  },
  {
   "cell_type": "code",
   "execution_count": null,
   "metadata": {},
   "outputs": [
    {
     "name": "stdout",
     "output_type": "stream",
     "text": [
      "Car: Toyota Camry, 4 doors (2022)\n",
      "Motorcycle: Harley-Davidson Iron 883, without sidecar (2021)\n",
      "Truck: Volvo FH16, Max load: 25 tons (2020)\n",
      "Honk honk!\n",
      "Meep meep!\n",
      "HOOOOONK!\n"
     ]
    },
    {
     "ename": "AttributeError",
     "evalue": "'Truck' object has no attribute 'mileage'",
     "output_type": "error",
     "traceback": [
      "\u001b[1;31m---------------------------------------------------------------------------\u001b[0m",
      "\u001b[1;31mAttributeError\u001b[0m                            Traceback (most recent call last)",
      "Cell \u001b[1;32mIn[13], line 12\u001b[0m\n\u001b[0;32m     10\u001b[0m \u001b[38;5;28mprint\u001b[39m(motorcycle\u001b[38;5;241m.\u001b[39mhonk())\n\u001b[0;32m     11\u001b[0m \u001b[38;5;28mprint\u001b[39m(truck\u001b[38;5;241m.\u001b[39mhonk())\n\u001b[1;32m---> 12\u001b[0m \u001b[38;5;28mprint\u001b[39m(truck\u001b[38;5;241m.\u001b[39mmileage())\n",
      "\u001b[1;31mAttributeError\u001b[0m: 'Truck' object has no attribute 'mileage'"
     ]
    }
   ],
   "source": [
    "car = Car(\"Toyota\", \"Camry\", 2022, 4)\n",
    "motorcycle = Motorcycle(\"Harley-Davidson\", \"Iron 883\", 2021, False)\n",
    "truck = Truck(\"Volvo\", \"FH16\", 2020, 25)\n",
    "\n",
    "print(car.display_info())\n",
    "print(motorcycle.display_info())\n",
    "print(truck.display_info())\n",
    "\n",
    "print(car.honk())\n",
    "print(motorcycle.honk())\n",
    "print(truck.honk())\n",
    "\n",
    "\n",
    "\n",
    "\n"
   ]
  },
  {
   "cell_type": "code",
   "execution_count": null,
   "metadata": {},
   "outputs": [],
   "source": []
  }
 ],
 "metadata": {
  "kernelspec": {
   "display_name": "Python 3",
   "language": "python",
   "name": "python3"
  },
  "language_info": {
   "codemirror_mode": {
    "name": "ipython",
    "version": 3
   },
   "file_extension": ".py",
   "mimetype": "text/x-python",
   "name": "python",
   "nbconvert_exporter": "python",
   "pygments_lexer": "ipython3",
   "version": "3.12.4"
  }
 },
 "nbformat": 4,
 "nbformat_minor": 2
}
